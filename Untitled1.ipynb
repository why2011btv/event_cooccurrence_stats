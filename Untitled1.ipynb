{
 "cells": [
  {
   "cell_type": "code",
   "execution_count": 1,
   "metadata": {},
   "outputs": [],
   "source": [
    "#!pip install stanfordnlp\n",
    "import os\n",
    "os.environ[\"CUDA_VISIBLE_DEVICES\"] = '5'\n"
   ]
  },
  {
   "cell_type": "code",
   "execution_count": 2,
   "metadata": {},
   "outputs": [
    {
     "name": "stdout",
     "output_type": "stream",
     "text": [
      "Use device: gpu\n",
      "---\n",
      "Loading: tokenize\n",
      "With settings: \n",
      "{'model_path': '/shared/why16gzl/Downloads/stanfordnlp_resources/en_ewt_models/en_ewt_tokenizer.pt', 'lang': 'en', 'shorthand': 'en_ewt', 'mode': 'predict'}\n",
      "---\n",
      "Loading: pos\n",
      "With settings: \n",
      "{'model_path': '/shared/why16gzl/Downloads/stanfordnlp_resources/en_ewt_models/en_ewt_tagger.pt', 'pretrain_path': '/shared/why16gzl/Downloads/stanfordnlp_resources/en_ewt_models/en_ewt.pretrain.pt', 'lang': 'en', 'shorthand': 'en_ewt', 'mode': 'predict'}\n",
      "---\n",
      "Loading: lemma\n",
      "With settings: \n",
      "{'model_path': '/shared/why16gzl/Downloads/stanfordnlp_resources/en_ewt_models/en_ewt_lemmatizer.pt', 'lang': 'en', 'shorthand': 'en_ewt', 'mode': 'predict'}\n",
      "Building an attentional Seq2Seq model...\n",
      "Using a Bi-LSTM encoder\n",
      "Using soft attention for LSTM.\n",
      "Finetune all embeddings.\n",
      "[Running seq2seq lemmatizer with edit classifier]\n",
      "---\n",
      "Loading: depparse\n",
      "With settings: \n",
      "{'model_path': '/shared/why16gzl/Downloads/stanfordnlp_resources/en_ewt_models/en_ewt_parser.pt', 'pretrain_path': '/shared/why16gzl/Downloads/stanfordnlp_resources/en_ewt_models/en_ewt.pretrain.pt', 'lang': 'en', 'shorthand': 'en_ewt', 'mode': 'predict'}\n",
      "Done loading processors!\n",
      "---\n",
      "('A', '2', 'det')\n",
      "('bus', '7', 'nsubj')\n",
      "('carrying', '2', 'acl')\n",
      "('Turkish', '5', 'amod')\n",
      "('pilgrims', '3', 'obj')\n",
      "('has', '7', 'aux')\n",
      "('come', '18', 'ccomp')\n",
      "('under', '9', 'case')\n",
      "('attack', '7', 'obl')\n",
      "('in', '12', 'case')\n",
      "('northern', '12', 'amod')\n",
      "('Syria', '7', 'obl')\n",
      "(',', '18', 'punct')\n",
      "('Turkish', '15', 'amod')\n",
      "('media', '18', 'nsubj')\n",
      "('and', '17', 'cc')\n",
      "('officials', '15', 'conj')\n",
      "('say', '0', 'root')\n",
      "('.', '18', 'punct')\n",
      "('At', '2', 'case')\n",
      "('least', '3', 'nmod')\n",
      "('two', '4', 'nummod')\n",
      "('people', '14', 'nsubj:pass')\n",
      "(',', '4', 'punct')\n",
      "('one', '4', 'appos')\n",
      "('of', '8', 'case')\n",
      "('them', '6', 'nmod')\n",
      "('the', '11', 'det')\n",
      "('bus', '11', 'compound')\n",
      "('driver', '6', 'nmod')\n",
      "(',', '14', 'punct')\n",
      "('were', '14', 'aux:pass')\n",
      "('injured', '26', 'ccomp')\n",
      "('in', '17', 'case')\n",
      "('the', '17', 'det')\n",
      "('attack', '14', 'obl')\n",
      "('near', '21', 'case')\n",
      "('the', '21', 'det')\n",
      "('flashpoint', '21', 'compound')\n",
      "('city', '17', 'nmod')\n",
      "('of', '23', 'case')\n",
      "('Homs', '21', 'nmod')\n",
      "(',', '26', 'punct')\n",
      "('reports', '26', 'nsubj')\n",
      "('say', '0', 'root')\n",
      "('.', '26', 'punct')\n"
     ]
    },
    {
     "name": "stderr",
     "output_type": "stream",
     "text": [
      "/mnt/cogcomp-archive/shared/why16gzl/logic_driven/consistency_env/lib/python3.7/site-packages/stanfordnlp/models/depparse/model.py:157: UserWarning: masked_fill_ received a mask with dtype torch.uint8, this behavior is now deprecated,please use a mask with dtype torch.bool instead. (Triggered internally at  /pytorch/aten/src/ATen/native/cuda/LegacyDefinitions.cpp:19.)\n",
      "  unlabeled_scores.masked_fill_(diag, -float('inf'))\n"
     ]
    }
   ],
   "source": [
    "import stanfordnlp\n",
    "#stanfordnlp.download('en')   # This downloads the English models for the neural pipeline\n",
    "nlp = stanfordnlp.Pipeline(processors='tokenize,mwt,pos,lemma,depparse', models_dir=\"/shared/why16gzl/Downloads/stanfordnlp_resources\") # This sets up a default neural pipeline in English\n",
    "doc = nlp(\"A bus carrying Turkish pilgrims has come under attack in northern Syria , Turkish media and officials say . At least two people , one of them the bus driver , were injured in the attack near the flashpoint city of Homs , reports say . The passengers were returning from the Hajj - the annual Muslim pilgrimage to Mecca , Saudi Arabia - reports say . Private news agency Dogan showed images of the bus with one of its side windows broken inside Turkey . `` We confirm that an attack took place in Syria , '' a foreign ministry official told AFP news agency , without giving any further information , but reiterated Turkey 's warning to its citizens not to visit Syria . Tensions have been running high between Syria and Turkey as Ankara has become increasingly vocal in its criticism of President Bashar al-Assad 's crackdown on anti-government protests in his country . Clashes again erupt in Cairo as Egypt 's health ministry confirms at least 20 people have died and 1,750 have been wounded in a weekend of violence .\")\n",
    "doc.sentences[0].print_dependencies()\n",
    "doc.sentences[1].print_dependencies()"
   ]
  },
  {
   "cell_type": "code",
   "execution_count": null,
   "metadata": {},
   "outputs": [],
   "source": []
  }
 ],
 "metadata": {
  "kernelspec": {
   "display_name": "consistency_env",
   "language": "python",
   "name": "consistency_env"
  },
  "language_info": {
   "codemirror_mode": {
    "name": "ipython",
    "version": 3
   },
   "file_extension": ".py",
   "mimetype": "text/x-python",
   "name": "python",
   "nbconvert_exporter": "python",
   "pygments_lexer": "ipython3",
   "version": "3.7.6"
  }
 },
 "nbformat": 4,
 "nbformat_minor": 2
}
